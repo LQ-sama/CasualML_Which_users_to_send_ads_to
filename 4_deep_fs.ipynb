{
 "cells": [
  {
   "cell_type": "code",
   "execution_count": 8,
   "metadata": {},
   "outputs": [],
   "source": [
    "import pandas as pd\n",
    "import numpy as np"
   ]
  },
  {
   "cell_type": "code",
   "execution_count": 9,
   "metadata": {},
   "outputs": [],
   "source": [
    "train = pd.read_csv('./data/-999_train.csv')\n",
    "#train = train.drop('y')\n",
    "\n",
    "selected_cols = ['id','x2', 'x14', 'x94','x4','x93','x112','x5','x12','x39']\n",
    " # 选择感兴趣的列\n",
    "\n",
    "# 筛选出感兴趣的列形成新的特征矩阵\n",
    "train = train[selected_cols]"
   ]
  },
  {
   "cell_type": "code",
   "execution_count": 10,
   "metadata": {},
   "outputs": [
    {
     "name": "stdout",
     "output_type": "stream",
     "text": [
      "Built 153 features\n",
      "Elapsed: 00:00 | Progress: 100%|██████████\n"
     ]
    }
   ],
   "source": [
    "import featuretools as ft\n",
    "es = ft.EntitySet(id='single_dataframe')  # 用id标识实体集\n",
    "\n",
    "es.add_dataframe(  dataframe_name = 'train_data',  \n",
    "             dataframe=train\n",
    "             )\n",
    "\n",
    "trans_primitives=['add_numeric', ft.primitives.SubtractNumeric(commutative=False),'multiply_numeric']\n",
    "\n",
    "#ft.list_primitives()\n",
    "\n",
    "feature_matrix, feature_names = ft.dfs(entityset=es, \n",
    "    target_dataframe_name = 'train_data',\n",
    "     max_depth=1, \n",
    "     verbose=1,\n",
    "     trans_primitives=trans_primitives\n",
    ")\n",
    "feature_matrix.to_csv('./data/train_feature.csv',index= False)"
   ]
  },
  {
   "cell_type": "code",
   "execution_count": null,
   "metadata": {},
   "outputs": [],
   "source": [
    "\n",
    "\n"
   ]
  },
  {
   "cell_type": "code",
   "execution_count": 11,
   "metadata": {},
   "outputs": [],
   "source": [
    "test = pd.read_csv('./data/-999B_test.csv')\n",
    "test = test[selected_cols]"
   ]
  },
  {
   "cell_type": "code",
   "execution_count": 12,
   "metadata": {},
   "outputs": [
    {
     "name": "stdout",
     "output_type": "stream",
     "text": [
      "Built 153 features\n",
      "Elapsed: 00:00 | Progress: 100%|██████████\n"
     ]
    }
   ],
   "source": [
    "es_test = ft.EntitySet(id='test')  # 用id标识实体集\n",
    "# 增加一个数据框，命名为iris\n",
    "es_test.add_dataframe(  dataframe_name = 'test_data',  \n",
    "             dataframe=test\n",
    "             )\n",
    "\n",
    "feature_matrix_test, feature_names = ft.dfs(entityset=es_test, \n",
    "    target_dataframe_name = 'test_data',\n",
    "     max_depth=1, \n",
    "     verbose=1,\n",
    "     trans_primitives=trans_primitives\n",
    ")\n",
    "feature_matrix_test.to_csv('./data/Btest_feature.csv',index = False)"
   ]
  },
  {
   "cell_type": "code",
   "execution_count": null,
   "metadata": {},
   "outputs": [],
   "source": []
  },
  {
   "cell_type": "code",
   "execution_count": 13,
   "metadata": {},
   "outputs": [
    {
     "name": "stdout",
     "output_type": "stream",
     "text": [
      "(30000, 153)\n",
      "(10000, 153)\n"
     ]
    }
   ],
   "source": [
    "print(feature_matrix.shape)\n",
    "print(feature_matrix_test.shape)"
   ]
  },
  {
   "cell_type": "code",
   "execution_count": 14,
   "metadata": {},
   "outputs": [
    {
     "name": "stdout",
     "output_type": "stream",
     "text": [
      "(30000, 144) (10000, 144)\n",
      "(30000, 308) (10000, 307)\n"
     ]
    }
   ],
   "source": [
    "X = pd.read_csv('./data/-999_train.csv')\n",
    "Y = pd.read_csv('./data/-999B_test.csv')\n",
    "XF = pd.read_csv('./data/train_feature.csv')\n",
    "YF = pd.read_csv('./data/Btest_feature.csv')\n",
    "selected_cols = ['x2', 'x14', 'x94','x4','x93','x112','x5','x12','x39'] \n",
    "\n",
    "XF = XF.drop(selected_cols,axis=1)\n",
    "YF = YF.drop(selected_cols,axis=1)\n",
    "print(XF.shape,YF.shape)\n",
    "final_train =  pd.concat([X,XF], axis=1)\n",
    "final_test =  pd.concat([Y, YF], axis=1)\n",
    "print(final_train.shape,final_test.shape)\n",
    "final_train.to_csv('./data/final_train.csv',index=False)\n",
    "final_test.to_csv('./data/Bfinal_test.csv',index=False)"
   ]
  }
 ],
 "metadata": {
  "kernelspec": {
   "display_name": "test001",
   "language": "python",
   "name": "python3"
  },
  "language_info": {
   "codemirror_mode": {
    "name": "ipython",
    "version": 3
   },
   "file_extension": ".py",
   "mimetype": "text/x-python",
   "name": "python",
   "nbconvert_exporter": "python",
   "pygments_lexer": "ipython3",
   "version": "3.7.1"
  }
 },
 "nbformat": 4,
 "nbformat_minor": 2
}
