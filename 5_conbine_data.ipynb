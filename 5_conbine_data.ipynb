{
 "cells": [
  {
   "cell_type": "code",
   "execution_count": 1,
   "metadata": {},
   "outputs": [],
   "source": [
    "import pandas as pd\n",
    "import numpy as np\n",
    "X = pd.read_csv('./data/train.csv')\n",
    "Y = pd.read_csv('./data/B_test.csv')"
   ]
  },
  {
   "cell_type": "code",
   "execution_count": 2,
   "metadata": {},
   "outputs": [],
   "source": [
    "import pandas as pd\n",
    "import numpy as np\n",
    "X = pd.read_csv('./data/train.csv')\n",
    "Y = pd.read_csv('./data/B_test.csv')\n",
    "X = X.replace([np.nan], -1)\n",
    "Y = Y.replace([np.nan], -1)\n",
    "X.to_csv('./data/-999_train.csv',index =False)\n",
    "Y.to_csv('./data/-999B_test.csv',index =False)\n"
   ]
  },
  {
   "cell_type": "code",
   "execution_count": null,
   "metadata": {},
   "outputs": [],
   "source": []
  },
  {
   "cell_type": "code",
   "execution_count": 3,
   "metadata": {},
   "outputs": [
    {
     "name": "stdout",
     "output_type": "stream",
     "text": [
      "(30000, 164)\n",
      "(10000, 163)\n"
     ]
    }
   ],
   "source": [
    "print(X.shape)\n",
    "print(Y.shape)"
   ]
  },
  {
   "cell_type": "code",
   "execution_count": 4,
   "metadata": {},
   "outputs": [
    {
     "name": "stdout",
     "output_type": "stream",
     "text": [
      "(30000, 144) (10000, 144)\n",
      "(30000, 308) (10000, 307)\n"
     ]
    }
   ],
   "source": [
    "XF = pd.read_csv('./data/train_feature.csv')\n",
    "YF = pd.read_csv('./data/Btest_feature.csv')\n",
    "selected_cols = ['x2', 'x14', 'x94','x4','x93','x112','x5','x12','x39']\n",
    "XF = XF.drop(selected_cols,axis=1)\n",
    "YF = YF.drop(selected_cols,axis=1)\n",
    "print(XF.shape,YF.shape)\n",
    "final_train =  pd.concat([X,XF], axis=1)\n",
    "final_test =  pd.concat([Y, YF], axis=1)\n",
    "print(final_train.shape,final_test.shape)"
   ]
  },
  {
   "cell_type": "code",
   "execution_count": 5,
   "metadata": {},
   "outputs": [],
   "source": [
    "final_train.to_csv('./data/final_train.csv',index=False)\n",
    "final_test.to_csv('./data/Bfinal_test.csv',index=False)"
   ]
  }
 ],
 "metadata": {
  "kernelspec": {
   "display_name": "test001",
   "language": "python",
   "name": "python3"
  },
  "language_info": {
   "codemirror_mode": {
    "name": "ipython",
    "version": 3
   },
   "file_extension": ".py",
   "mimetype": "text/x-python",
   "name": "python",
   "nbconvert_exporter": "python",
   "pygments_lexer": "ipython3",
   "version": "3.7.1"
  }
 },
 "nbformat": 4,
 "nbformat_minor": 2
}
